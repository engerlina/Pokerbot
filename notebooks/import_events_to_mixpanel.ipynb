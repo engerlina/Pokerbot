{
 "cells": [
  {
   "cell_type": "code",
   "execution_count": null,
   "id": "5dae87a1",
   "metadata": {},
   "outputs": [],
   "source": [
    "!pip install mixpanel-utils "
   ]
  },
  {
   "cell_type": "code",
   "execution_count": null,
   "id": "bd324741",
   "metadata": {},
   "outputs": [],
   "source": [
    "%load_ext autoreload\n",
    "%autoreload 2\n",
    "\n",
    "import sys\n",
    "sys.path.append(\"..\")\n",
    "\n",
    "import os\n",
    "from datetime import datetime\n",
    "import pymongo\n",
    "import json\n",
    "import tempfile\n",
    "import uuid\n",
    "from tqdm.auto import tqdm\n",
    "from mixpanel_utils import MixpanelUtils\n",
    "\n",
    "from bot import config\n",
    "from bot import database"
   ]
  },
  {
   "cell_type": "code",
   "execution_count": null,
   "id": "7d33b099",
   "metadata": {},
   "outputs": [],
   "source": [
    "def split_into_chunks(seq, chunk_size):\n",
    "    for i in range(0, len(seq), chunk_size):\n",
    "        yield seq[i:i + chunk_size]"
   ]
  },
  {
   "cell_type": "code",
   "execution_count": null,
   "id": "418dbbe6",
   "metadata": {},
   "outputs": [],
   "source": [
    "db = database.Database()\n",
    "\n",
    "api_secret = \"\"\n",
    "project_token = \"\"\n",
    "mputils = MixpanelUtils(\n",
    "    api_secret,\n",
    "    project_token,\n",
    ")"
   ]
  },
  {
   "cell_type": "code",
   "execution_count": null,
   "id": "2cdd39a6",
   "metadata": {},
   "outputs": [],
   "source": [
    "# # just to save commands\n",
    "# mputils.export_people(\"tmp.json\", {'from_date':'2023-03-01','to_date':'2023-03-27','event': [\"start\"]})\n",
    "# mputils.export_people(\"tmp.json\", format='json')"
   ]
  },
  {
   "cell_type": "markdown",
   "id": "2910ed1c",
   "metadata": {},
   "source": [
    "### people_set"
   ]
  },
  {
   "cell_type": "code",
   "execution_count": null,
   "id": "6ab4c4ab",
   "metadata": {},
   "outputs": [],
   "source": [
    "users_to_dump = []\n",
    "query = db.user_collection.find({})\n",
    "n = db.user_collection.count_documents({})\n",
    "\n",
    "for user_dict in tqdm(query, total=n):        \n",
    "    properties = user_dict\n",
    "    properties[\"first_seen\"] = properties[\"first_seen\"].timestamp()\n",
    "    properties[\"last_interaction\"] = properties[\"last_interaction\"].timestamp()\n",
    "    \n",
    "    users_to_dump.append({\n",
    "        \"$distinct_id\": user_dict[\"_id\"],\n",
    "        \"$properties\": user_dict\n",
    "    })\n",
    "\n",
    "for chunk in tqdm(split_into_chunks(users_to_dump, 500)):\n",
    "    with tempfile.NamedTemporaryFile() as tmp_file:\n",
    "        with open(tmp_file.name, \"w\") as f:\n",
    "            json.dump(chunk, f)\n",
    "\n",
    "        mputils.import_people(tmp_file.name)"
   ]
  },
  {
   "cell_type": "markdown",
   "id": "d22f0d6d",
   "metadata": {},
   "source": [
    "### start"
   ]
  },
  {
   "cell_type": "code",
   "execution_count": null,
   "id": "54e2df74",
   "metadata": {},
   "outputs": [],
   "source": [
    "event_name = \"start\"\n",
    "\n",
    "events_to_dump = []\n",
    "query = db.user_collection.find({})\n",
    "n = db.user_collection.count_documents({})\n",
    "for user_dict in tqdm(query, total=n):    \n",
    "    distinct_id, event_name, properties = (\n",
    "        user_dict[\"_id\"],\n",
    "        event_name,\n",
    "        {}\n",
    "    )\n",
    "    properties[\"time\"] = user_dict[\"first_seen\"].timestamp()\n",
    "    properties[\"distinct_id\"] = str(distinct_id)\n",
    "    properties[\"$insert_id\"] = str(uuid.uuid4())\n",
    "    \n",
    "    events_to_dump.append({\n",
    "        \"event\": event_name,\n",
    "        \"properties\": properties,\n",
    "    })\n",
    "\n",
    "    \n",
    "for chunk in tqdm(split_into_chunks(events_to_dump, 500)):\n",
    "    with tempfile.NamedTemporaryFile() as tmp_file:\n",
    "        with open(tmp_file.name, \"w\") as f:\n",
    "            json.dump(chunk, f)\n",
    "\n",
    "        mputils.import_events(tmp_file.name, timezone_offset=0)"
   ]
  },
  {
   "cell_type": "markdown",
   "id": "5642d90a",
   "metadata": {},
   "source": [
    "### successful_payment"
   ]
  },
  {
   "cell_type": "code",
   "execution_count": null,
   "id": "fa5f15aa",
   "metadata": {},
   "outputs": [],
   "source": [
    "event_name = \"successful_payment\"\n",
    "\n",
    "events_to_dump = []\n",
    "query = db.payment_collection.find({\"status\": \"paid\"})\n",
    "n = db.payment_collection.count_documents({\"status\": \"paid\"})\n",
    "for payment_dict in tqdm(query, total=n):        \n",
    "    payment_method = payment_dict.get(\"payment_method\", \"cryptomus\")\n",
    "    product = payment_dict.get(\"product\", \"default\")\n",
    "    \n",
    "    amount = payment_dict[\"amount\"]\n",
    "    currency = payment_dict.get(\"currency\", \"USD\")\n",
    "    if currency == \"RUB\":\n",
    "        amount /= 77\n",
    "    \n",
    "    distinct_id, event_name, properties = (\n",
    "        payment_dict[\"user_id\"],\n",
    "        event_name,\n",
    "        {\n",
    "            \"payment_method\": payment_method,\n",
    "            \"product\": product,\n",
    "            \"payment_id\": payment_dict[\"_id\"],\n",
    "            \"amount\": amount\n",
    "        }\n",
    "    )\n",
    "    properties[\"time\"] = payment_dict[\"created_at\"].timestamp()\n",
    "    properties[\"distinct_id\"] = str(distinct_id)\n",
    "    properties[\"$insert_id\"] = str(uuid.uuid4())\n",
    "    \n",
    "    events_to_dump.append({\n",
    "        \"event\": event_name,\n",
    "        \"properties\": properties,\n",
    "    })\n",
    "    \n",
    "\n",
    "for chunk in tqdm(split_into_chunks(events_to_dump, 500)):\n",
    "    with tempfile.NamedTemporaryFile() as tmp_file:\n",
    "        with open(tmp_file.name, \"w\") as f:\n",
    "            json.dump(chunk, f)\n",
    "\n",
    "        mputils.import_events(tmp_file.name, timezone_offset=0)"
   ]
  },
  {
   "cell_type": "markdown",
   "id": "396f6fcd",
   "metadata": {},
   "source": [
    "### send_message"
   ]
  },
  {
   "cell_type": "code",
   "execution_count": null,
   "id": "d2b80d5e",
   "metadata": {},
   "outputs": [],
   "source": [
    "event_name = \"send_message\"\n",
    "\n",
    "events_to_dump = []\n",
    "query = db.dialog_collection.find({})\n",
    "n = db.dialog_collection.count_documents({})\n",
    "for dialog_dict in tqdm(query, total=n):\n",
    "    for message in dialog_dict[\"messages\"]:\n",
    "        user_id = dialog_dict[\"user_id\"]\n",
    "        \n",
    "        distinct_id, event_name, properties = (\n",
    "            user_id,\n",
    "            event_name,\n",
    "            {\n",
    "                \"dialog_id\": dialog_dict[\"_id\"],\n",
    "                \"chat_mode\": dialog_dict[\"chat_mode\"]\n",
    "            }\n",
    "        )\n",
    "        properties[\"time\"] = message[\"date\"].timestamp()\n",
    "        properties[\"distinct_id\"] = str(distinct_id)\n",
    "        properties[\"$insert_id\"] = str(uuid.uuid4())\n",
    "\n",
    "        events_to_dump.append({\n",
    "            \"event\": event_name,\n",
    "            \"properties\": properties,\n",
    "        })\n",
    "\n",
    "\n",
    "for chunk in tqdm(split_into_chunks(events_to_dump, 500)):\n",
    "    with tempfile.NamedTemporaryFile() as tmp_file:\n",
    "        with open(tmp_file.name, \"w\") as f:\n",
    "            json.dump(chunk, f)\n",
    "\n",
    "        mputils.import_events(tmp_file.name, timezone_offset=0)"
   ]
  },
  {
   "cell_type": "markdown",
   "id": "82090dac",
   "metadata": {},
   "source": [
    "### send_invoice"
   ]
  },
  {
   "cell_type": "code",
   "execution_count": null,
   "id": "ae8527c4",
   "metadata": {},
   "outputs": [],
   "source": [
    "event_name = \"send_invoice\"\n",
    "\n",
    "events_to_dump = []\n",
    "query = db.payment_collection.find({\"status\": {\"$ne\": \"paid\"}})\n",
    "n = db.payment_collection.count_documents({\"status\": {\"$ne\": \"paid\"}})\n",
    "for payment_dict in tqdm(query, total=n):        \n",
    "    payment_method = payment_dict.get(\"payment_method\", \"cryptomus\")\n",
    "    product = payment_dict.get(\"product\", \"default\")\n",
    "    \n",
    "    amount = payment_dict[\"amount\"]\n",
    "    currency = payment_dict.get(\"currency\", \"USD\")\n",
    "    if currency == \"RUB\":\n",
    "        amount /= 77\n",
    "    \n",
    "    distinct_id, event_name, properties = (\n",
    "        payment_dict[\"user_id\"],\n",
    "        event_name,\n",
    "        {\n",
    "            \"payment_method\": payment_method,\n",
    "            \"product\": product,\n",
    "            \"payment_id\": payment_dict[\"_id\"],\n",
    "            \"amount\": amount\n",
    "        }\n",
    "    )\n",
    "    properties[\"time\"] = payment_dict[\"created_at\"].timestamp()\n",
    "    properties[\"distinct_id\"] = str(distinct_id)\n",
    "    properties[\"$insert_id\"] = str(uuid.uuid4())\n",
    "    \n",
    "    events_to_dump.append({\n",
    "        \"event\": event_name,\n",
    "        \"properties\": properties,\n",
    "    })\n",
    "    \n",
    "\n",
    "for chunk in tqdm(split_into_chunks(events_to_dump, 500)):\n",
    "    with tempfile.NamedTemporaryFile() as tmp_file:\n",
    "        with open(tmp_file.name, \"w\") as f:\n",
    "            json.dump(chunk, f)\n",
    "\n",
    "        mputils.import_events(tmp_file.name, timezone_offset=0)"
   ]
  },
  {
   "cell_type": "markdown",
   "id": "12efc972",
   "metadata": {},
   "source": [
    "---"
   ]
  }
 ],
 "metadata": {
  "kernelspec": {
   "display_name": "Python 3 (ipykernel)",
   "language": "python",
   "name": "python3"
  },
  "language_info": {
   "codemirror_mode": {
    "name": "ipython",
    "version": 3
   },
   "file_extension": ".py",
   "mimetype": "text/x-python",
   "name": "python",
   "nbconvert_exporter": "python",
   "pygments_lexer": "ipython3",
   "version": "3.8.16"
  }
 },
 "nbformat": 4,
 "nbformat_minor": 5
}
